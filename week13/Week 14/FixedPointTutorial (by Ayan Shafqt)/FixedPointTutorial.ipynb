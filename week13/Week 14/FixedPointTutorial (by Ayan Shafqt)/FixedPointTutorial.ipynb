{
 "cells": [
  {
   "cell_type": "markdown",
   "metadata": {
    "slideshow": {
     "slide_type": "slide"
    }
   },
   "source": [
    "<h1><center>Introduction to Fixed Point Signal Processing</center></h1>\n",
    "<center>Ayan Shafqat</center>\n",
    "<center>ans343@nyu.edu</center>\n",
    "<center>December 5, 2020</center> \n",
    "\n",
    "\n",
    "\n",
    "\n"
   ]
  },
  {
   "cell_type": "markdown",
   "metadata": {
    "slideshow": {
     "slide_type": "slide"
    }
   },
   "source": [
    "# Background\n",
    "\n",
    "In 1927, Alan Turing's paper discussed a class of numbers called *finite and\n",
    "computable numbers*. This allowed for the construction of digital computer.\n",
    "Signal processing, in essence, is the study of converting real-world\n",
    "signal into finite and computable numbers, and processing them with \n",
    "the fewest bits possible."
   ]
  },
  {
   "cell_type": "markdown",
   "metadata": {
    "slideshow": {
     "slide_type": "slide"
    }
   },
   "source": [
    "# What are fixed-point numbers?\n",
    "* Over the years, computers had different encoding schemes for representing and processing numerical data\n",
    "  * **Binary coded decimal**: Still used today for financial calculations, inefficient.\n",
    "  * **Binary one's complement**: Used by early computers like [Apollo Guidance Computer](\n",
    "     https://en.wikipedia.org/wiki/Apollo_Guidance_Computer). Very rare to see a\n",
    "     computer with this numeric encoding for integers. However, [IEEE 754](\n",
    "     https://en.wikipedia.org/wiki/IEEE_754) floating point encoding are indeed one's complement.\n",
    "  * **Binary two's complement**: Most common implementation for integers for all major\n",
    "    architectures, including x86, ARM, RISC-V and many DSP\n",
    "  * **Floating point**: Makes writing math expressions easy, there are several standards\n",
    "    and extension. [IEEE 754](https://en.wikipedia.org/wiki/IEEE_754), [Posit Unum III](\n",
    "    https://en.wikipedia.org/wiki/Unum_(number_format)#Unum_III)\n",
    "  * **Bignum**: Arbitrary precission arithmetic, used for cryptography, mathmatics, etc.\n",
    "  * There are otheres: Logarithmic numbers, Computer algebra system (CAS), etc.\n",
    "* **Fixed-point** in this context means binary two's complement numbers with scaling\n",
    "   factor for fractions."
   ]
  },
  {
   "cell_type": "markdown",
   "metadata": {
    "slideshow": {
     "slide_type": "slide"
    }
   },
   "source": [
    "# It’s the 2020’s, do we still need fixed point arithmetic for signal processing?\n",
    "\n",
    "* Floating point machines are more common now, but that was not the case all the time.\n",
    "* FPUs (a.k.a  math coprocessor) were expensive and slow!\n",
    "  * Intel 8087 costed around [\\$375 in 1985](https://books.google.com/books?id=0C4EAAAAMBAJ&lpg=PA27&ots=z8RRGv5UvJ&dq=intel%20personal%20computer%20enhancement%208087%20price&pg=PA27#v=onepage&q=intel%20personal%20computer%20enhancement%208087%20price&f=false), [$915.15 in 2020 USD](https://www.usdinflation.com/amount/375)\n",
    "  * FPU was uncommon in desktop computers (extra headache for programmers)\n",
    "* Most programs were written without the support of FPU \n",
    "* In the past, fixed point signal processing was mainstream\n",
    "  * Speak & Spell used [TMS5100](https://en.wikipedia.org/wiki/Texas_Instruments_LPC_Speech_Chips) for speech synthesis (70’s)\n",
    "  * AT&T’s used [DSP1](https://www.computerhistory.org/siliconengine/single-chip-digital-signal-processor-introduced/) for call routing (80’s)\n",
    "  * NeXTcube and ProTools used [Motorola 56001\n",
    "    ](https://www.computerhistory.org/siliconengine/single-chip-digital-signal-processor-introduced/) DSP to process image and audio (90’s)\n",
    "* To answer the question: It depends on various costs and benefits"
   ]
  },
  {
   "cell_type": "markdown",
   "metadata": {
    "slideshow": {
     "slide_type": "slide"
    }
   },
   "source": [
    "# Pros and cons\n",
    "\n",
    "* On one hand, doing signal processing in floating point offers:\n",
    "  * Greater dynamic range\n",
    "  * Less development time\n",
    "  * Precision \n",
    "* Fixed point is still best at:\n",
    "  * Minimizing cost: Less logic gates are needed to operate on integers than floating \n",
    "  * Efficient power utilization\n",
    "  * More bandwidth utilization (less bits)"
   ]
  },
  {
   "cell_type": "markdown",
   "metadata": {
    "slideshow": {
     "slide_type": "slide"
    }
   },
   "source": [
    "# Where are fixed point arithmetic done today?\n",
    "* Your phones modem: 3G, LTE, and now 5G, where FPGAs are involved for software defined radios\n",
    "* Wearable electronics: BlueTooth earbuds, smart watch, smart glasses, etc.\n",
    "* Physical layer network communication: Fiber-optic, Satellite, etc.\n",
    "* Special purpose accelerators: Convolutional neural network engines, audio/video codec, image processors\n",
    "* Operating systems kernel (i.e. Linux, XNU): Cannot execute floating point math in kernel-mode"
   ]
  },
  {
   "cell_type": "markdown",
   "metadata": {
    "slideshow": {
     "slide_type": "slide"
    }
   },
   "source": [
    "# Getting Started with Fixed-point Arithmetic\n",
    "* Know the Q notation\n",
    "* The Q notation convention describes binary fixed point number scaling and bits\n",
    "* Written as Q**n**.**m**, where **m** is the number of bits reserved for integer\n",
    "  portion and **n* is the number of bits reserved for fractional portion.\n",
    "* Sometimes **m** is not indicated in the notation if there are no bits reserved for integer\n",
    "  bits or sign bit\n",
    "    * For example `Q15` is used to decribe the format of 16-bit PCM format used by CDs\n",
    "      (you know... those shiny disks). `Q15` can also be written as `Q1.15`, where there\n",
    "      are 15 bits reserved for fraction and 1 bit for sign.\n",
    "    * CD audio has a range of `[-1.0, +0.999969482421875]`\n",
    "    * What happened to +1.0?\n",
    "* Sometimes **U** is used to describe unsigned\n",
    "    * 8-bit PCM samples tend have a bias ($s + 127$) in their\n",
    "      format, typically `U8` is used to describe that format.\n",
    "* Sometimes `S16` is used to represent `Q1.15` as well"
   ]
  },
  {
   "cell_type": "markdown",
   "metadata": {
    "slideshow": {
     "slide_type": "slide"
    }
   },
   "source": [
    "## How to get the range of values for a certain fixed-point type:\n",
    "\n",
    "$$Q(m,n) \\in \\mathbb{Z} : [-2^{m-1}, 2^{m-1} - 2^{-n}]$$\n",
    "\n",
    "## What is the resolution of a certain fixed-point type:\n",
    "\n",
    "$$ 2^{-n} $$\n",
    "\n",
    "What is the resolution for a 32-bit floating point type? Extra credit."
   ]
  },
  {
   "cell_type": "code",
   "execution_count": 1,
   "metadata": {
    "slideshow": {
     "slide_type": "subslide"
    }
   },
   "outputs": [],
   "source": [
    "def qrange(m, n):\n",
    "    \"\"\"Get numeric range of _signed_ Qm.n integers\n",
    "    \n",
    "    Args:\n",
    "        m: Number of bits for integer portion\n",
    "        n: Number of bits for fraction portion\n",
    "\n",
    "    Returns:\n",
    "        tuple(min_value, max_value)\n",
    "    \"\"\"\n",
    "    from numpy import ldexp\n",
    "    min_value = ldexp(-1.0, m - 1)\n",
    "    max_value = ldexp(+1.0, m - 1) - ldexp(1.0, -n)\n",
    "    return (min_value, max_value) "
   ]
  },
  {
   "cell_type": "markdown",
   "metadata": {
    "slideshow": {
     "slide_type": "slide"
    }
   },
   "source": [
    "# How to convert decimal to fixed point\n",
    "\n",
    "Given $Q(m, n)$, for a given value $x$, quantized fixed point value, $y$ is:\n",
    "\n",
    "$$y = \\lceil2^{n}x\\rfloor$$\n",
    "\n",
    "\n",
    "May want to saturate the results so they don't overflow in fixed point:\n",
    "\n",
    "$$\\text{clip}\\left(x, m, n\\right) := \\max\\left(-2^{m - 1}, \\min\\left(x, 2^{m - 1} - 2^{-n}\\right)\\right)$$\n",
    "\n",
    "So final expression:\n",
    "\n",
    "$$y = \\lceil2^{n}\\text{clip}\\left(x, m, n\\right)\\rfloor$$"
   ]
  },
  {
   "cell_type": "code",
   "execution_count": 2,
   "metadata": {
    "slideshow": {
     "slide_type": "subslide"
    }
   },
   "outputs": [],
   "source": [
    "from numpy import clip, ldexp, rint\n",
    "\n",
    "\n",
    "def ftoq(x, m, n):\n",
    "    \"\"\"Convert a float value to fractional integer\n",
    "    \n",
    "    Args:\n",
    "        x: A double/float value\n",
    "        m: Bits for integer portion\n",
    "        n: Scaling factor from Q notation\n",
    "        \n",
    "    Returns:\n",
    "        np.array_like(int)\n",
    "    \"\"\"\n",
    "    vmin, vmax = qrange(m, n)\n",
    "    return int(rint(ldexp(clip(x, vmin, vmax), n)))"
   ]
  },
  {
   "cell_type": "code",
   "execution_count": 3,
   "metadata": {
    "slideshow": {
     "slide_type": "subslide"
    }
   },
   "outputs": [],
   "source": [
    "def qtof(x, m, n):\n",
    "    \"\"\"Convert a fractional integer to float\n",
    "    \n",
    "    Args:\n",
    "        x: A double/float value\n",
    "        m: Number of bits for integer portion\n",
    "        n: Number of bits for fraction portion\n",
    "    \n",
    "    Returns:\n",
    "        np.array_like(float)\n",
    "    \"\"\"\n",
    "    vmin, vmax = qrange(m, n)\n",
    "    return clip(ldexp(float(x), -n), vmin, vmax)"
   ]
  },
  {
   "cell_type": "code",
   "execution_count": 4,
   "metadata": {
    "slideshow": {
     "slide_type": "notes"
    }
   },
   "outputs": [],
   "source": [
    "from numpy import vectorize\n",
    "\n",
    "vftoq = vectorize(ftoq)\n",
    "vqtof = vectorize(qtof)\n",
    "\n",
    "def vquantize(x, m, n):\n",
    "    return vqtof(vftoq(x, m, n), m, n)"
   ]
  },
  {
   "cell_type": "code",
   "execution_count": 5,
   "metadata": {
    "scrolled": true,
    "slideshow": {
     "slide_type": "subslide"
    }
   },
   "outputs": [
    {
     "name": "stdout",
     "output_type": "stream",
     "text": [
      " 0.50000000 ->  16384\n",
      " 0.70700000 ->  23167\n",
      " 0.99999999 ->  32767\n",
      " 16384 ->  0.50000000\n",
      " 23168 ->  0.70703125\n",
      " 32767 ->  0.99996948\n"
     ]
    }
   ],
   "source": [
    "print(\"\\n\".join(f\"{n: 1.08f} -> {ftoq(n, 1, 15): 6d}\" for n in (0.5, 0.707, 0.99999999)))\n",
    "print(\"\\n\".join(f\"{n: 6d} -> {qtof(n, 1, 15): 1.08f}\" for n in (16384, 23168, 32767)))"
   ]
  },
  {
   "cell_type": "markdown",
   "metadata": {
    "slideshow": {
     "slide_type": "slide"
    }
   },
   "source": [
    "# Exercise\n",
    "\n",
    "Suppose you are working on a thermostat for ACME Corporation. In order to reduce production and power costs, they have decided to choose a microprocessor without an FPU. Your job is to take temperature data from the sensor, which outputs in Celsius, and convert it to Fahrenheit for the user interface team. They want to be able to display up to 1 decimal place accurately. You are free to decide on the appropriate `QM.N` format. Note, the formula for convertion is:\n",
    "\n",
    "$$F = \\frac{9}{5} C + 32$$\n",
    "\n",
    "1. How many bits are needed for fractional portion in order to achieve one decimal place of accuracy?\n",
    "1. Given temperature sensor has a range of -100° to 155° in Celsius, which corresponds to roughly -150° to +310°\n",
    "   degrees Fahrenheit. How many bits do we need for the integer portion?"
   ]
  },
  {
   "cell_type": "code",
   "execution_count": 6,
   "metadata": {
    "slideshow": {
     "slide_type": "subslide"
    }
   },
   "outputs": [
    {
     "name": "stdout",
     "output_type": "stream",
     "text": [
      "Numbers of bits needed for 1 decimal places accuracy: 4.0\n",
      "Bits needed to store up to 310: 9.0\n"
     ]
    }
   ],
   "source": [
    "from numpy import log2, ceil\n",
    "\n",
    "# Question: How many bits do we need to compute this result?\n",
    "\n",
    "n = 1  # Decimal places\n",
    "print(f\"Numbers of bits needed for {n} decimal places accuracy: {ceil(abs(log2(10 ** (-n))))}\")\n",
    "\n",
    "# Question: Given temperature sensor has a range of -100 to 155 in Celsius,\n",
    "# which corresponds to roughly -150 to +310 degrees Fahrenheit. How many bits\n",
    "# do we need for the integer portion?\n",
    "n = 310\n",
    "print(f\"Bits needed to store up to {n}: {ceil(log2(n))}\")\n",
    "\n",
    "# Let's give it some room and use an extra two bits for quantization error.\n",
    "# Also, one extra bit is needed for sign, thus a format of Q10.6 is needed.\n",
    "\n",
    "# The computation can be done using 16 bit signed integers at Q10.6 format\n",
    "# Note the formula: F = 9/5 * C + 32"
   ]
  },
  {
   "cell_type": "code",
   "execution_count": 7,
   "metadata": {
    "slideshow": {
     "slide_type": "notes"
    }
   },
   "outputs": [
    {
     "data": {
      "text/plain": [
       "(115, 2048, -115.6875)"
      ]
     },
     "execution_count": 7,
     "metadata": {},
     "output_type": "execute_result"
    }
   ],
   "source": [
    "ftoq(9/5, 10, 6), ftoq(32.0, 10, 6), qtof(-7404, 10, 6)"
   ]
  },
  {
   "cell_type": "code",
   "execution_count": 8,
   "metadata": {
    "slideshow": {
     "slide_type": "subslide"
    }
   },
   "outputs": [],
   "source": [
    "# Reference function for comparison\n",
    "\n",
    "def ctof_f64(c):\n",
    "    \"\"\"Convert Celsius to Fahrenheit\n",
    "    \n",
    "    Args:\n",
    "        c: Celsius\n",
    "    \n",
    "    Return:\n",
    "        Fahrenheit\n",
    "    \"\"\"\n",
    "    return 9/5 * c + 32.0"
   ]
  },
  {
   "cell_type": "code",
   "execution_count": 9,
   "metadata": {
    "slideshow": {
     "slide_type": "subslide"
    }
   },
   "outputs": [],
   "source": [
    "def ctof_q10x6(c):\n",
    "    \"\"\"Convert Celsius to Fahrenheit in Q10.6 format\n",
    "    \n",
    "    Args:\n",
    "        c: Celsius in Q10.6 format\n",
    "    \n",
    "    Return:\n",
    "        int16(Q10.6)\n",
    "    \"\"\"\n",
    "    C0 = int16(ftoq(9/5, 10, 6))\n",
    "    C1 = int16(ftoq(32,  10, 6))\n",
    "    return q10x6mul(C0, c) + C1"
   ]
  },
  {
   "cell_type": "code",
   "execution_count": 10,
   "metadata": {
    "slideshow": {
     "slide_type": "fragment"
    }
   },
   "outputs": [],
   "source": [
    "from numpy import int32, int16, clip\n",
    "\n",
    "def qround(a, b):\n",
    "    \"\"\"Round an integer `a` by `b`\"\"\"\n",
    "    if a < 0:\n",
    "        a = a - b\n",
    "    else:\n",
    "        a = a + b\n",
    "    return a\n",
    "\n",
    "\n",
    "def q10x6mul(a, b):\n",
    "    \"\"\"Multiply two Q10.6 integers\"\"\"\n",
    "    a = int32(a)\n",
    "    b = int32(b)\n",
    "    c = a * b                   # c: Q20.12\n",
    "    c = qround(c, 0b10000)      # Round to nearest b0.000001 bit\n",
    "    c = c >> 6                  # Rescale c to Q10.6\n",
    "    c = clip(c, -32768, 32767)  # Saturate result\n",
    "    return int16(c)"
   ]
  },
  {
   "cell_type": "code",
   "execution_count": 11,
   "metadata": {
    "slideshow": {
     "slide_type": "subslide"
    }
   },
   "outputs": [
    {
     "name": "stdout",
     "output_type": "stream",
     "text": [
      "Celsius \tQ10.6 \t\tF64 \t\tError\n",
      "-100.0° C \t-147.7° F \t-148.0° F \t -0.2 %\n",
      "-81.8° C \t-115.0° F \t-115.2° F \t -0.21 %\n",
      "-63.6° C \t-82.2° F \t-82.4° F \t -0.22 %\n",
      "-45.4° C \t-49.5° F \t-49.6° F \t -0.26 %\n",
      "-27.1° C \t-16.8° F \t-16.9° F \t -0.45 %\n",
      "-8.9° C \t 16.0° F \t 15.9° F \t  0.15 %\n",
      " 9.3° C \t 48.7° F \t 48.7° F \t  0.087 %\n",
      " 27.5° C \t 81.4° F \t 81.5° F \t  0.12 %\n",
      " 45.7° C \t 114.1° F \t 114.3° F \t  0.13 %\n",
      " 63.9° C \t 146.9° F \t 147.1° F \t  0.14 %\n",
      " 82.1° C \t 179.6° F \t 179.9° F \t  0.15 %\n",
      " 100.4° C \t 212.3° F \t 212.6° F \t  0.15 %\n",
      " 118.6° C \t 245.1° F \t 245.4° F \t  0.15 %\n",
      " 136.8° C \t 277.8° F \t 278.2° F \t  0.16 %\n",
      " 155.0° C \t 310.5° F \t 311.0° F \t  0.16 %\n"
     ]
    }
   ],
   "source": [
    "from numpy import linspace\n",
    "\n",
    "print(\"Celsius \\tQ10.6 \\t\\tF64 \\t\\tError\")\n",
    "\n",
    "for c in linspace(-100, 155, num=15):\n",
    "    cq10x6 = ftoq(c, 10, 6)\n",
    "    fq10x6 = ctof_q10x6(cq10x6)\n",
    "    f = ctof_f64(c)\n",
    "    fq = qtof(fq10x6, 10, 6)\n",
    "    perr = abs(f - fq) / f * 100\n",
    "    print(f\"{c: 3.1f}° C \\t{fq: 3.1f}° F \\t{f: 3.1f}° F \\t {perr: 2.2} %\")\n",
    "    "
   ]
  },
  {
   "cell_type": "code",
   "execution_count": 12,
   "metadata": {
    "slideshow": {
     "slide_type": "subslide"
    }
   },
   "outputs": [
    {
     "data": {
      "image/png": "[encoded data removed]",
      "text/plain": [
       "<Figure size 432x288 with 1 Axes>"
      ]
     },
     "metadata": {
      "needs_background": "light"
     },
     "output_type": "display_data"
    }
   ],
   "source": [
    "import matplotlib.pylab as plt\n",
    "from numpy import linspace, vectorize\n",
    "vctof_q10x6 = vectorize(ctof_q10x6)\n",
    "c = linspace(-100, 155, num=512)\n",
    "cq = vftoq(c, 10, 6)\n",
    "fq = vctof_q10x6(cq)\n",
    "fq = vqtof(fq, 10, 6)\n",
    "f = ctof_f64(c)\n",
    "perr = abs(f - fq)/100.0\n",
    "plt.plot(c, perr)\n",
    "plt.grid(True)\n",
    "plt.xlabel(\"° Celsius\")\n",
    "plt.ylabel(\"% Error during conversion\")\n",
    "plt.show()"
   ]
  },
  {
   "cell_type": "markdown",
   "metadata": {
    "slideshow": {
     "slide_type": "slide"
    }
   },
   "source": [
    "# Fixed point signal processing\n",
    "\n",
    "* There are only two rules of fixed point signal processing:\n",
    "    * Thou shalt not overflow\n",
    "    * Thou shalt not underflow\n",
    "* Always design your filters so they are within range of operation\n",
    "    * Usually with FIR filters, it is not a problem\n",
    "    * IIR filters become a challenge, can be avoided with low order filters\n"
   ]
  },
  {
   "cell_type": "markdown",
   "metadata": {
    "slideshow": {
     "slide_type": "slide"
    }
   },
   "source": [
    "# FIR filters in fixed-point\n",
    "\n",
    "```C\n",
    "#include <stdint.h>\n",
    "\n",
    "typedef int16_t q15_t;\n",
    "\n",
    "typedef struct fir_instance_q15\n",
    "{\n",
    "    q15_t    *coeff;\n",
    "    q15_t    *state;\n",
    "    uint32_t index;\n",
    "    uint32_t taps;\n",
    "} fir_q15_t;\n",
    "\n",
    "void generic_fir_q15(fir_q15_t     *self, \n",
    "                     q15_t         *dst, \n",
    "                     const q15_t   *src,\n",
    "                     uint32_t      frames);\n",
    "```\n",
    "\n",
    "1. CMSIS DSP documentation for [fixed-point FIR filter](https://arm-software.github.io/CMSIS_5/DSP/html/group__FIR.html#gad9f84fdadbb59292592c7fac81adb09c)\n",
    "1. CMSIS DSP implementation for FIR filter [arm_fir_q15.c](https://github.com/ARM-software/CMSIS/blob/f2cad4345783c948ed4a7f5cdb02cdc0856366f1/CMSIS/DSP_Lib/Source/FilteringFunctions/arm_fir_q15.c#L603)\n"
   ]
  },
  {
   "cell_type": "code",
   "execution_count": 13,
   "metadata": {
    "slideshow": {
     "slide_type": "skip"
    }
   },
   "outputs": [],
   "source": [
    "import numpy as np\n",
    "from scipy import signal\n",
    "import matplotlib.pyplot as plt\n",
    "from zplane import zplane\n",
    "\n",
    "\n",
    "def plot_response(fs, w, h, title, sb=-40):\n",
    "    \"Utility function to plot response functions\"\n",
    "    fig = plt.figure()\n",
    "    ax = fig.add_subplot(111)\n",
    "    ax.plot(0.5*fs*w/np.pi, 20*np.log10(np.abs(h)))\n",
    "    ax.set_ylim(sb, 5)\n",
    "    ax.set_xlim(0, 0.5*fs)\n",
    "    ax.grid(True)\n",
    "    ax.set_xlabel('Frequency (Hz)')\n",
    "    ax.set_ylabel('Gain (dB)')\n",
    "    ax.set_title(title)\n",
    "    \n",
    "\n",
    "def sos2zpk(sos):\n",
    "    b, a = signal.sos2tf(sos)\n",
    "    z, p, k = signal.tf2zpk(b, a)\n",
    "    return z, p, k"
   ]
  },
  {
   "cell_type": "code",
   "execution_count": 14,
   "metadata": {
    "slideshow": {
     "slide_type": "subslide"
    }
   },
   "outputs": [
    {
     "data": {
      "image/png": "[encoded data removed]",
      "text/plain": [
       "<Figure size 432x288 with 1 Axes>"
      ]
     },
     "metadata": {
      "needs_background": "light"
     },
     "output_type": "display_data"
    }
   ],
   "source": [
    "Fs = 16000.0  # Sample Rate: Hz\n",
    "Fc = 3500.0   # Cutoff frequency: Hz\n",
    "Tw = 500.0    # Transition width: Hz\n",
    "ntaps = 45    # Filter taps\n",
    "gain = 0.5    # Filter gain to avoid overflow\n",
    "# Generate the FIR filter\n",
    "coeffs = gain * signal.remez(ntaps, [0, Fc, Fc + Tw, Fs/2.0], [1, 0], Hz=Fs)\n",
    "qcoeffs = vquantize(coeffs, 1, 15)\n",
    "# Get filter response\n",
    "w, h = signal.freqz(qcoeffs, [1], worN=512)\n",
    "plot_response(Fs, w, h, \"Low-pass filter\", sb=-75)"
   ]
  },
  {
   "cell_type": "code",
   "execution_count": 15,
   "metadata": {
    "slideshow": {
     "slide_type": "subslide"
    }
   },
   "outputs": [
    {
     "name": "stdout",
     "output_type": "stream",
     "text": [
      "/*<autogen-fir>*/\n",
      "q15_t fir_coeff[45] = {171,-201,-209,1,148,-33,-230,-29,271,90,-326,-188,375,328,-420,-537,458,888,-487,-1643,506,5183,7681,5183,506,-1643,-487,888,458,-537,-420,328,375,-188,-326,90,271,-29,-230,-33,148,1,-209,-201,171};\n",
      "q15_t fir_state[45] = {0};\n",
      "uint32_t fir_taps = 45;\n",
      "uint32_t fir_index = 0;\n",
      "fir_q15_t fir_filter = { fir_coeff, fir_state, fir_index, fir_taps };\n",
      "/*</autogen-fir>*/\n"
     ]
    }
   ],
   "source": [
    "coeff_str = \",\".join(f\"{x:d}\" for x in vftoq(coeffs, 1, 15))\n",
    "taps = coeffs.shape[0]\n",
    "print(\"/*<autogen-fir>*/\")\n",
    "print(f\"q15_t fir_coeff[{taps}] = {{{coeff_str}}};\")\n",
    "print(f\"q15_t fir_state[{taps}] = {{0}};\");\n",
    "print(f\"uint32_t fir_taps = {taps};\")\n",
    "print(f\"uint32_t fir_index = 0;\")\n",
    "print(f\"fir_q15_t fir_filter = {{ fir_coeff, fir_state, fir_index, fir_taps }};\")\n",
    "print(\"/*</autogen-fir>*/\")"
   ]
  },
  {
   "cell_type": "markdown",
   "metadata": {
    "slideshow": {
     "slide_type": "slide"
    }
   },
   "source": [
    "# IIR filters in fixed-point\n",
    "\n",
    "```C\n",
    "#include <stdint.h>\n",
    "\n",
    "typedef int16_t q15_t;\n",
    "\n",
    "typedef struct iir_instance_q15\n",
    "{\n",
    "    q15_t    *coeff; /* b0, b1, b2, a1, a2... */\n",
    "    q15_t    *state; /* x1, x2, y1, y2, ... */  \n",
    "    uint32_t nstage;\n",
    "    int32_t  shift;\n",
    "} iir_q15_t;\n",
    "\n",
    "void generic_iir_q15(iir_q15_t     *self, \n",
    "                     q15_t         *dst, \n",
    "                     const q15_t   *src,\n",
    "                     uint32_t      frames);\n",
    "```\n",
    "\n",
    "1. CCRMA's info on [Direct form I](https://ccrma.stanford.edu/~jos/filters/Direct_Form_I.html)\n",
    "1. CMSIS DSP documentation on [fixed-point IIR filters](https://arm-software.github.io/CMSIS_5/DSP/html/group__BiquadCascadeDF1.html#ga27af5bfa40dad7c877e48eedc8d67558)\n",
    "1. CMSIS DSP implementation of IIR filter [arm_biquad_cascade_df1_q15.c](https://github.com/ARM-software/CMSIS/blob/f2cad4345783c948ed4a7f5cdb02cdc0856366f1/CMSIS/DSP_Lib/Source/FilteringFunctions/arm_biquad_cascade_df1_q15.c#L75)"
   ]
  },
  {
   "cell_type": "code",
   "execution_count": 16,
   "metadata": {
    "slideshow": {
     "slide_type": "subslide"
    }
   },
   "outputs": [
    {
     "data": {
      "image/png": "[encoded data removed]",
      "text/plain": [
       "<Figure size 432x288 with 1 Axes>"
      ]
     },
     "metadata": {
      "needs_background": "light"
     },
     "output_type": "display_data"
    },
    {
     "data": {
      "image/png": "[encoded data removed]",
      "text/plain": [
       "<Figure size 432x288 with 1 Axes>"
      ]
     },
     "metadata": {
      "needs_background": "light"
     },
     "output_type": "display_data"
    }
   ],
   "source": [
    "Fs = 16000.0 # Sample Rate: Hz\n",
    "Fc = 4000.0  # Cutoff frequency: Hz\n",
    "sos = signal.iirfilter(3, Fc, rs=40, rp=5, btype='low', analog=False, ftype='ellip', fs=Fs, output='sos')\n",
    "qsos = vquantize(sos, 2, 14)\n",
    "w, h = signal.sosfreqz(qsos)\n",
    "z, p, k = sos2zpk(qsos)\n",
    "zplane(z, p)\n",
    "plot_response(Fs, w, h, \"Low-pass filter\", sb=-96)"
   ]
  },
  {
   "cell_type": "code",
   "execution_count": 21,
   "metadata": {
    "slideshow": {
     "slide_type": "subslide"
    }
   },
   "outputs": [
    {
     "name": "stdout",
     "output_type": "stream",
     "text": [
      "[[ 0.09785746  0.09785746  0.          1.         -0.61870658  0.        ]\n",
      " [ 1.          1.20325498  1.          1.         -0.17021587  0.8144215 ]]\n",
      "/*<autogen-iir>*/\n",
      "#define NSTAGE (2)\n",
      "q15_t iir_coeff[5 * NSTAGE] = {802,802,0,-5068,0,8192,9857,8192,-1394,6672};\n",
      "q15_t iir_state[4 * NSTAGE] = {0};\n",
      "uint32_t iir_stage = NSTAGE;\n",
      "int32_t iir_shift = 13;\n",
      "iir_q15_t iir_filter = {iir_coeff, iir_state, iir_stage, iir_shift};\n",
      "/*</autogen-iir>*/\n",
      "\n"
     ]
    }
   ],
   "source": [
    "print(sos)\n",
    "\n",
    "sos2 = np.delete(sos, 3, axis=1).flatten()                  # Remove a0 column\n",
    "coeff_str = \",\".join(f\"{x:d}\" for x in vftoq(sos2, 3, 13))  # \"flatten\" array so it's one dimention\n",
    "iir_stage = sos.shape[0]                                    # Get number of stages\n",
    "iir_shift = 13                                              # Get the shift amount\n",
    "\n",
    "# Write out header file\n",
    "print(\"/*<autogen-iir>*/\")\n",
    "print(f\"#define NSTAGE ({iir_stage})\")\n",
    "print(f\"q15_t iir_coeff[5 * NSTAGE] = {{{coeff_str}}};\")\n",
    "print(f\"q15_t iir_state[4 * NSTAGE] = {{0}};\")\n",
    "print(f\"uint32_t iir_stage = NSTAGE;\")\n",
    "print(f\"int32_t iir_shift = {iir_shift};\")\n",
    "print(f\"iir_q15_t iir_filter = {{iir_coeff, iir_state, iir_stage, iir_shift}};\")\n",
    "print(\"/*</autogen-iir>*/\\n\")"
   ]
  },
  {
   "cell_type": "code",
   "execution_count": 18,
   "metadata": {
    "slideshow": {
     "slide_type": "subslide"
    }
   },
   "outputs": [
    {
     "name": "stdout",
     "output_type": "stream",
     "text": [
      "Impulse response:\n",
      " [ 0.09783936  0.2927537   0.35654529  0.15918156 -0.05482352 -0.00999962\n",
      "  0.1227405   0.07840751 -0.05606584 -0.05449918  0.04807553  0.05980219\n",
      " -0.02449616 -0.05010284  0.01313415  0.04409932 -0.0025335  -0.03593957\n",
      " -0.00380352  0.0287768   0.00809227 -0.0219986  -0.01029824  0.01618521\n",
      "  0.01115605 -0.01127333 -0.01099904  0.00731191  0.01020428 -0.00421644\n",
      " -0.00902725  0.00189765]\n",
      "Step response: \n",
      "[0.09783936 0.39059305 0.74713834 0.9063199  0.85149637 0.84149676\n",
      " 0.96423726 1.04264477 0.98657893 0.93207975 0.98015529 1.03995748\n",
      " 1.01546132 0.96535848 0.97849263 1.02259195 1.02005845 0.98411889\n",
      " 0.98031536 1.00909216 1.01718443 0.99518583 0.98488759 1.0010728\n",
      " 1.01222885 1.00095552 0.98995649 0.9972684  1.00747268 1.00325623\n",
      " 0.99422899 0.99612664]\n"
     ]
    }
   ],
   "source": [
    "x = np.zeros(32)\n",
    "x[0] = 1\n",
    "y = signal.sosfilt(vquantize(sos, 2, 14), x)\n",
    "ys = signal.sosfilt(vquantize(sos, 2, 14), np.ones(32))\n",
    "print(f\"Impulse response:\\n {y}\")\n",
    "print(f\"Step response: \\n{ys}\")"
   ]
  },
  {
   "cell_type": "markdown",
   "metadata": {
    "slideshow": {
     "slide_type": "slide"
    }
   },
   "source": [
    "# Other functions\n",
    "\n",
    "1. Trigonometry: [libfixmath](https://en.wikipedia.org/wiki/Libfixmath) offers a great set of math functions for your fixed point needs.\n",
    "1. [CMSIS](https://www.arm.com/why-arm/technologies/cmsis) and [CMSIS-DSP](https://github.com/ARM-software/CMSIS_5), A great library for programming for embedded ARM environment. Supported by ARM!\n",
    "1. Espressif, a new player in slilcon industry from China, has a great set of DSP libraries [esp-dsp](https://github.com/espressif/esp-dsp)\n",
    "1. [PLUP DSP](https://github.com/pulp-platform/pulp-dsp) is an open source FPGA DSP that is based on RISC-V architecture."
   ]
  },
  {
   "cell_type": "markdown",
   "metadata": {
    "slideshow": {
     "slide_type": "slide"
    }
   },
   "source": [
    "# Questions/Comments\n",
    "\n",
    "Thank you for your time."
   ]
  }
 ],
 "metadata": {
  "celltoolbar": "Slideshow",
  "kernelspec": {
   "display_name": "Python 3",
   "language": "python",
   "name": "python3"
  },
  "language_info": {
   "codemirror_mode": {
    "name": "ipython",
    "version": 3
   },
   "file_extension": ".py",
   "mimetype": "text/x-python",
   "name": "python",
   "nbconvert_exporter": "python",
   "pygments_lexer": "ipython3",
   "version": "3.8.6"
  }
 },
 "nbformat": 4,
 "nbformat_minor": 4
}
